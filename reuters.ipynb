{
 "cells": [
  {
   "cell_type": "code",
   "execution_count": 3,
   "metadata": {
    "collapsed": false
   },
   "outputs": [
    {
     "name": "stderr",
     "output_type": "stream",
     "text": [
      "/Users/pfcmathews/.pyenv/versions/3.5.1/lib/python3.5/site-packages/matplotlib/font_manager.py:273: UserWarning: Matplotlib is building the font cache using fc-list. This may take a moment.\n",
      "  warnings.warn('Matplotlib is building the font cache using fc-list. This may take a moment.')\n",
      "/Users/pfcmathews/.pyenv/versions/3.5.1/lib/python3.5/site-packages/matplotlib/font_manager.py:273: UserWarning: Matplotlib is building the font cache using fc-list. This may take a moment.\n",
      "  warnings.warn('Matplotlib is building the font cache using fc-list. This may take a moment.')\n"
     ]
    }
   ],
   "source": [
    "%matplotlib inline\n",
    "import matplotlib.pyplot as plt\n",
    "\n",
    "import numpy as np\n",
    "import tensorflow as tf"
   ]
  },
  {
   "cell_type": "code",
   "execution_count": 53,
   "metadata": {
    "collapsed": false
   },
   "outputs": [],
   "source": [
    "# get some data\n",
    "import requests\n",
    "import os\n",
    "import tarfile\n",
    "import re\n",
    "import xml.etree.ElementTree as ET\n",
    "\n",
    "def maybe_download(data_path='reuters21578.tar.gz'):\n",
    "    \"\"\"might download Reuters-21578\"\"\"\n",
    "    if not os.path.exists(data_path):\n",
    "        print('Downloading dataset :)')\n",
    "        url = 'https://archive.ics.uci.edu/ml/machine-learning-databases/reuters21578-mld/reuters21578.tar.gz'\n",
    "        r = requests.get(url, stream=True)\n",
    "        with open(data_path, 'wb') as f:\n",
    "            for chunk in r.iter_content(chunk_size=1024):\n",
    "                if chunk: # could be keep-alive chunks\n",
    "                    f.write(chunk)\n",
    "    # quickly validate the data\n",
    "    size = os.path.getsize(data_path) >> 20\n",
    "    if size != 7:  # wrong size :(\n",
    "        raise ValueError('data file is wrong size ({}).'.format(size))\n",
    "    return data_path\n",
    "\n",
    "def read_reuters_file(filename):\n",
    "    \"\"\"Reads in a whole file & finds the necessary bits\n",
    "    Returns a tuple of (text, label, set, id) where set is one of {train, test, valid}.\n",
    "    according to the \"ModHayes\" split\n",
    "    \"\"\"\n",
    "    # the files have some things that make the xml parser unhappy\n",
    "    # there are probably efficient ways to do this, if so this is\n",
    "    # not one of them\n",
    "    with open(filename, errors='ignore') as raw_file:\n",
    "        file_str = raw_file.read()\n",
    "        file_str = re.sub('&#\\d{1,2};', '', file_str)\n",
    "        # the docs don't have any kind of root tags\n",
    "        # so we skip the doctype and wrap them in one\n",
    "        file_str = '<root>' + file_str[file_str.find('\\n'):-1] + '</root>'\n",
    "        print('..parsing {}'.format(filename))\n",
    "        root = ET.fromstring(file_str)\n",
    "        data = []\n",
    "        for child in root:\n",
    "            if child.attrib['TOPICS'] == 'YES':  # we need to be able to evaluate\n",
    "                try:\n",
    "                    text = child.find('./TEXT/BODY').text\n",
    "                except AttributeError:\n",
    "                    text = child.find('./TEXT').text  # should check type=brief\n",
    "                topics = [d.text for d in child.findall('./TOPICS/D')]\n",
    "                data.append(\n",
    "                    (text, topics, \n",
    "                    'train' if child.attrib['CGISPLIT'] == 'TRAINING-SET' else 'test',\n",
    "                    child.attrib['NEWID']))\n",
    "        return data\n",
    "\n",
    "def get_reuters(data_dir='data'):\n",
    "    \"\"\"gets the reuters dataset as training/test/validation\n",
    "    tensor sequences\"\"\"\n",
    "    if not os.path.exists(data_dir):\n",
    "        with tarfile.open(maybe_download(), 'r:gz') as datafile:\n",
    "            print('Extracting archive')\n",
    "            datafile.extractall(path=data_dir)\n",
    "    # the data is probably small enough that we will just hold it in memory\n",
    "    filenames = [os.path.join(data_dir, f) for f in os.listdir(data_dir) if re.search('.sgm$', f)]\n",
    "    all_data = []\n",
    "    for filename in filenames:\n",
    "        start = len(all_data)\n",
    "        all_data.extend(read_reuters_file(filename))\n",
    "        end = len(all_data)\n",
    "        #print('...{} new items'.format(end-start))\n",
    "    print('got {} in total'.format(len(all_data)))\n",
    "    #for file in all_data[0:5]:\n",
    "     #   print(file)"
   ]
  },
  {
   "cell_type": "code",
   "execution_count": 54,
   "metadata": {
    "collapsed": false
   },
   "outputs": [
    {
     "name": "stdout",
     "output_type": "stream",
     "text": [
      "..parsing data/reut2-000.sgm\n",
      "..parsing data/reut2-001.sgm\n",
      "..parsing data/reut2-002.sgm\n",
      "..parsing data/reut2-003.sgm\n",
      "..parsing data/reut2-004.sgm\n",
      "..parsing data/reut2-005.sgm\n",
      "..parsing data/reut2-006.sgm\n",
      "..parsing data/reut2-007.sgm\n",
      "..parsing data/reut2-008.sgm\n",
      "..parsing data/reut2-009.sgm\n",
      "..parsing data/reut2-010.sgm\n",
      "..parsing data/reut2-011.sgm\n",
      "..parsing data/reut2-012.sgm\n",
      "..parsing data/reut2-013.sgm\n",
      "..parsing data/reut2-014.sgm\n",
      "..parsing data/reut2-015.sgm\n",
      "..parsing data/reut2-016.sgm\n",
      "..parsing data/reut2-017.sgm\n",
      "..parsing data/reut2-018.sgm\n",
      "..parsing data/reut2-019.sgm\n",
      "..parsing data/reut2-020.sgm\n",
      "..parsing data/reut2-021.sgm\n",
      "got 13476 in total\n"
     ]
    }
   ],
   "source": [
    "get_reuters()"
   ]
  },
  {
   "cell_type": "code",
   "execution_count": null,
   "metadata": {
    "collapsed": true
   },
   "outputs": [],
   "source": []
  }
 ],
 "metadata": {
  "kernelspec": {
   "display_name": "Python 3",
   "language": "python",
   "name": "python3"
  },
  "language_info": {
   "codemirror_mode": {
    "name": "ipython",
    "version": 3
   },
   "file_extension": ".py",
   "mimetype": "text/x-python",
   "name": "python",
   "nbconvert_exporter": "python",
   "pygments_lexer": "ipython3",
   "version": "3.5.1"
  }
 },
 "nbformat": 4,
 "nbformat_minor": 0
}
